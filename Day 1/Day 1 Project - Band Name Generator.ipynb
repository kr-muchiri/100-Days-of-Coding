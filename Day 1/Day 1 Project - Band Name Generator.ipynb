{
 "cells": [
  {
   "cell_type": "code",
   "execution_count": 1,
   "metadata": {},
   "outputs": [
    {
     "name": "stdout",
     "output_type": "stream",
     "text": [
      "Hello, how are you doing?\n",
      " Welcome to the band name generator \n",
      "Your band name could be Addis Dog\n"
     ]
    }
   ],
   "source": [
    "#1. Create a greeting for your program.\n",
    "print(\"Hello, how are you doing?\\n Welcome to the band name generator \")\n",
    "#2. Ask the user for the city that they grew up in.\n",
    "s_city_name = input(\"What city did you grow up in\\n\")\n",
    "#3. Ask the user for the name of a pet.\n",
    "s_pet_name = input(\"What is the name of your pet?\\n\")\n",
    "#4. Combine the name of their city and pet and show them their band name.\n",
    "s_band_name = s_city_name + s_pet_name\n",
    "#5. Make sure the input cursor shows on a new line:\n",
    "print(\"Your band name could be\"+ \" \" + s_city_name + \" \" + s_pet_name )"
   ]
  }
 ],
 "metadata": {
  "kernelspec": {
   "display_name": "Python 3",
   "language": "python",
   "name": "python3"
  },
  "language_info": {
   "codemirror_mode": {
    "name": "ipython",
    "version": 3
   },
   "file_extension": ".py",
   "mimetype": "text/x-python",
   "name": "python",
   "nbconvert_exporter": "python",
   "pygments_lexer": "ipython3",
   "version": "3.10.0"
  },
  "orig_nbformat": 4
 },
 "nbformat": 4,
 "nbformat_minor": 2
}
